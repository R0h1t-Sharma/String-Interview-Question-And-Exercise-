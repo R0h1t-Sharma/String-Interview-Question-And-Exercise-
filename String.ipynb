{
 "cells": [
  {
   "cell_type": "markdown",
   "id": "c720ec0c-dc69-4b4f-9940-39ddbb2dfdda",
   "metadata": {},
   "source": [
    "### 1 -Python program to check whether the string is Symmetrical or Palindrome"
   ]
  },
  {
   "cell_type": "markdown",
   "id": "e5620018-c496-4182-8499-9e49346eb276",
   "metadata": {},
   "source": [
    "### https://interviewprep.org/string-manipulation-interview-questions/"
   ]
  },
  {
   "cell_type": "code",
   "execution_count": 9,
   "id": "f7054185-af0b-42f3-9fed-b1f7d902b70b",
   "metadata": {},
   "outputs": [
    {
     "name": "stdout",
     "output_type": "stream",
     "text": [
      "True\n"
     ]
    }
   ],
   "source": [
    "def is_palindrome(s):\n",
    "    return s == s[::-1]\n",
    "\n",
    "# Example usage\n",
    "string = \"radar\"\n",
    "print(is_palindrome(string))  # Output: True\n"
   ]
  },
  {
   "cell_type": "code",
   "execution_count": 10,
   "id": "4f7ae5cb-c788-4ce8-8838-80b7863d6218",
   "metadata": {},
   "outputs": [
    {
     "name": "stdout",
     "output_type": "stream",
     "text": [
      "True\n"
     ]
    }
   ],
   "source": [
    "string = \"radar\"\n",
    "is_palindrome = string == string[::-1]\n",
    "\n",
    "print(is_palindrome)  # Output: True\n"
   ]
  },
  {
   "cell_type": "markdown",
   "id": "38fbe75a-b7f0-4f77-bb43-2e173d9be4ef",
   "metadata": {},
   "source": [
    "### 2 -Reverse Words in a Given String in Python "
   ]
  },
  {
   "cell_type": "code",
   "execution_count": 11,
   "id": "c852bc92-fdab-4890-ae08-deff6713b2a4",
   "metadata": {},
   "outputs": [
    {
     "name": "stdout",
     "output_type": "stream",
     "text": [
      "World Hello\n"
     ]
    }
   ],
   "source": [
    "input_string = \"Hello World\"\n",
    "reversed_words = ' '.join(input_string.split()[::-1])\n",
    "\n",
    "print(reversed_words)  # Output: \"World Hello\"\n"
   ]
  },
  {
   "cell_type": "code",
   "execution_count": 12,
   "id": "9b2c641d-248c-4585-8e7b-901ed1113688",
   "metadata": {},
   "outputs": [
    {
     "name": "stdout",
     "output_type": "stream",
     "text": [
      "World Hello\n"
     ]
    }
   ],
   "source": [
    "def reverse_words(input_string):\n",
    "    return ' '.join(input_string.split()[::-1])\n",
    "\n",
    "# Example usage\n",
    "result = reverse_words(\"Hello World\")\n",
    "print(result)  # Output: \"World Hello\"\n"
   ]
  },
  {
   "cell_type": "markdown",
   "id": "0de9d08a-0818-4cc0-815e-8ce459034ed2",
   "metadata": {},
   "source": [
    "### 3 -How to Remove Letters From a String in Python"
   ]
  },
  {
   "cell_type": "markdown",
   "id": "7923da75-c54f-477c-9229-4fee5d957716",
   "metadata": {},
   "source": [
    "### Using str.replace()"
   ]
  },
  {
   "cell_type": "code",
   "execution_count": 13,
   "id": "c77f9cbf-05cf-4e97-b34d-e7b66af66a4c",
   "metadata": {},
   "outputs": [
    {
     "name": "stdout",
     "output_type": "stream",
     "text": [
      "Hell Wrld\n"
     ]
    }
   ],
   "source": [
    "input_string = \"Hello World\"\n",
    "result = input_string.replace('o', '')  # Remove all occurrences of 'o'\n",
    "print(result)  # Output: \"Hell Wrld\"\n"
   ]
  },
  {
   "cell_type": "markdown",
   "id": "e42c085f-38a9-46ba-804f-759dcdfcca9a",
   "metadata": {},
   "source": [
    "### Using a List Comprehension"
   ]
  },
  {
   "cell_type": "code",
   "execution_count": 14,
   "id": "035ddf8f-eb05-4d30-a764-8b6364491d98",
   "metadata": {},
   "outputs": [
    {
     "name": "stdout",
     "output_type": "stream",
     "text": [
      "Hell Wrld\n"
     ]
    }
   ],
   "source": [
    "input_string = \"Hello World\"\n",
    "letters_to_remove = 'o'\n",
    "result = ''.join([char for char in input_string if char not in letters_to_remove])\n",
    "print(result)  # Output: \"Hell Wrld\"\n"
   ]
  },
  {
   "cell_type": "markdown",
   "id": "0c19b5c8-fda2-429c-a7d3-0177f2f7b38e",
   "metadata": {},
   "source": [
    "### Using Regular Expressions"
   ]
  },
  {
   "cell_type": "code",
   "execution_count": 15,
   "id": "1298532b-dee8-404a-889b-59015de3e487",
   "metadata": {},
   "outputs": [
    {
     "name": "stdout",
     "output_type": "stream",
     "text": [
      "Hell Wrld\n"
     ]
    }
   ],
   "source": [
    "import re\n",
    "\n",
    "input_string = \"Hello World\"\n",
    "result = re.sub('[o]', '', input_string)  # Remove all occurrences of 'o'\n",
    "print(result)  # Output: \"Hell Wrld\"\n"
   ]
  },
  {
   "cell_type": "markdown",
   "id": "e9ab94c4-892e-4ed1-b626-48cbfa7a45c0",
   "metadata": {},
   "source": [
    "### 4-Find length of a string in python"
   ]
  },
  {
   "cell_type": "code",
   "execution_count": 16,
   "id": "7df6da13-2009-46c0-8316-50bd4cb644b0",
   "metadata": {},
   "outputs": [
    {
     "name": "stdout",
     "output_type": "stream",
     "text": [
      "13\n"
     ]
    }
   ],
   "source": [
    "input_string = \"Hello, World!\"\n",
    "length = len(input_string)\n",
    "\n",
    "print(length)  # Output: 13\n"
   ]
  },
  {
   "cell_type": "markdown",
   "id": "11bb268f-e27c-419f-b422-91b527397f28",
   "metadata": {},
   "source": [
    "### 5 -Python – Avoid Spaces in string length"
   ]
  },
  {
   "cell_type": "code",
   "execution_count": 17,
   "id": "41cf167f-6818-423a-87d1-0044b0ec8a1d",
   "metadata": {},
   "outputs": [
    {
     "name": "stdout",
     "output_type": "stream",
     "text": [
      "12\n"
     ]
    }
   ],
   "source": [
    "input_string = \"Hello, World!\"\n",
    "length_without_spaces = len(input_string.replace(\" \", \"\"))\n",
    "\n",
    "print(length_without_spaces)  # Output: 12\n"
   ]
  },
  {
   "cell_type": "markdown",
   "id": "1ad35bef-a8bb-426c-97de-8b3b63af0cb6",
   "metadata": {},
   "source": [
    "### with function\n"
   ]
  },
  {
   "cell_type": "code",
   "execution_count": 18,
   "id": "071926a0-91e1-47f6-8fb9-a77c4fea39f0",
   "metadata": {},
   "outputs": [
    {
     "name": "stdout",
     "output_type": "stream",
     "text": [
      "12\n"
     ]
    }
   ],
   "source": [
    "def length_without_spaces(input_string):\n",
    "    return len(input_string.replace(\" \", \"\"))\n",
    "\n",
    "# Example usage\n",
    "result = length_without_spaces(\"Hello, World!\")\n",
    "print(result)  # Output: 12\n"
   ]
  },
  {
   "cell_type": "markdown",
   "id": "91d42b50-f752-4f05-bf15-c0a249a63ddb",
   "metadata": {},
   "source": [
    "### 6 -Python program to print even length words in a string"
   ]
  },
  {
   "cell_type": "code",
   "execution_count": 19,
   "id": "fcc49981-9e00-404f-881b-970cbf860d53",
   "metadata": {},
   "outputs": [
    {
     "name": "stdout",
     "output_type": "stream",
     "text": [
      "['am', 'learning', 'Python']\n"
     ]
    }
   ],
   "source": [
    "def even_length_words(input_string):\n",
    "    words = input_string.split()  # Split the string into words\n",
    "    even_length = [word for word in words if len(word) % 2 == 0]  # Filter even length words\n",
    "    return even_length\n",
    "\n",
    "# Example usage\n",
    "input_string = \"Hello there I am learning Python programming\"\n",
    "result = even_length_words(input_string)\n",
    "print(result)  # Output: ['there', 'learning', 'programming']\n"
   ]
  },
  {
   "cell_type": "markdown",
   "id": "8ac908bb-863a-4e11-b041-ee9b15743a22",
   "metadata": {},
   "source": [
    "### without function"
   ]
  },
  {
   "cell_type": "code",
   "execution_count": 20,
   "id": "e590bfda-fc0b-4d64-85c5-715b2d077249",
   "metadata": {},
   "outputs": [
    {
     "name": "stdout",
     "output_type": "stream",
     "text": [
      "['am', 'learning', 'Python']\n"
     ]
    }
   ],
   "source": [
    "input_string = \"Hello there I am learning Python programming\"\n",
    "words = input_string.split()  # Split the string into words\n",
    "\n",
    "# Filter and print even length words\n",
    "even_length_words = [word for word in words if len(word) % 2 == 0]\n",
    "print(even_length_words)  # Output: ['there', 'learning', 'programming']\n"
   ]
  },
  {
   "cell_type": "markdown",
   "id": "5764c65c-02bc-4e65-8cd0-b9f2d63410b8",
   "metadata": {},
   "source": [
    "### 7 -Python – Uppercase Half String"
   ]
  },
  {
   "cell_type": "code",
   "execution_count": 21,
   "id": "7bd281f3-78c7-4a18-9e61-4fb068596e49",
   "metadata": {},
   "outputs": [
    {
     "name": "stdout",
     "output_type": "stream",
     "text": [
      "HELLO, World!\n"
     ]
    }
   ],
   "source": [
    "input_string = \"Hello, World!\"\n",
    "half_length = len(input_string) // 2  # Calculate the halfway point\n",
    "\n",
    "# Convert the first half to uppercase\n",
    "result = input_string[:half_length].upper() + input_string[half_length:]\n",
    "\n",
    "print(result)  # Output: \"HELLO, World!\"\n"
   ]
  },
  {
   "cell_type": "markdown",
   "id": "98ed8c99-8b07-433c-be6b-fe615503c606",
   "metadata": {},
   "source": [
    "### 8 -Python program to capitalize the first and last character of each word in a string"
   ]
  },
  {
   "cell_type": "code",
   "execution_count": 22,
   "id": "9e16b7bb-d1a5-4c95-a04e-f5021652b12e",
   "metadata": {},
   "outputs": [
    {
     "name": "stdout",
     "output_type": "stream",
     "text": [
      "HellO WorlD ThiS IS PythoN\n"
     ]
    }
   ],
   "source": [
    "input_string = \"hello world this is python\"\n",
    "\n",
    "def capitalize_first_last(word):\n",
    "    if len(word) > 1:\n",
    "        return word[0].upper() + word[1:-1] + word[-1].upper()\n",
    "    else:\n",
    "        return word.upper()  # Handle single-letter words\n",
    "\n",
    "# Use map to apply the function to each word\n",
    "capitalized_words = map(capitalize_first_last, input_string.split())\n",
    "\n",
    "# Join the words back into a single string\n",
    "result = ' '.join(capitalized_words)\n",
    "\n",
    "print(result)  # Output: \"HellO WorlD ThiS iS PythoN\"\n"
   ]
  },
  {
   "cell_type": "code",
   "execution_count": 23,
   "id": "bd7b0242-2b5b-4c8c-9e64-09d0a02a79fc",
   "metadata": {},
   "outputs": [
    {
     "name": "stdout",
     "output_type": "stream",
     "text": [
      "HellO WorlD ThiS IS PythoN\n"
     ]
    }
   ],
   "source": [
    "input_string = \"hello world this is python\"\n",
    "\n",
    "# Use map with a lambda function\n",
    "capitalized_words = map(\n",
    "    lambda word: word[0].upper() + word[1:-1] + word[-1].upper() if len(word) > 1 else word.upper(),\n",
    "    input_string.split()\n",
    ")\n",
    "\n",
    "# Join the words back into a single string\n",
    "result = ' '.join(capitalized_words)\n",
    "\n",
    "print(result)  # Output: \"HellO WorlD ThiS iS PythoN\"\n"
   ]
  },
  {
   "cell_type": "markdown",
   "id": "88f9239e-4ea3-47ac-9f1d-1eac72d1550f",
   "metadata": {},
   "source": [
    "### 9 -Python program to check if a string has at least one letter and one number"
   ]
  },
  {
   "cell_type": "code",
   "execution_count": 24,
   "id": "ff681490-ab75-4116-889f-88e7b264fa24",
   "metadata": {},
   "outputs": [
    {
     "name": "stdout",
     "output_type": "stream",
     "text": [
      "The string has at least one letter and one number.\n"
     ]
    }
   ],
   "source": [
    "import re\n",
    "\n",
    "input_string = \"Hello123\"\n",
    "\n",
    "# Regular expression to check for at least one letter and one number\n",
    "pattern = r'(?=.*[a-zA-Z])(?=.*\\d)'\n",
    "\n",
    "if re.search(pattern, input_string):\n",
    "    print(\"The string has at least one letter and one number.\")\n",
    "else:\n",
    "    print(\"The string does not meet the requirements.\")\n"
   ]
  },
  {
   "cell_type": "markdown",
   "id": "91abaa85-f9c8-4112-80d2-6f22a1c9173f",
   "metadata": {},
   "source": [
    "### 10 -Python Program to Accept the Strings Which Contains all Vowels"
   ]
  },
  {
   "cell_type": "markdown",
   "id": "8e1146e6-7e93-4d81-bc44-8d58c219e878",
   "metadata": {},
   "source": [
    "### using regular expression"
   ]
  },
  {
   "cell_type": "code",
   "execution_count": 25,
   "id": "4da7c954-12a3-43cd-9c52-450e99e29b64",
   "metadata": {},
   "outputs": [
    {
     "name": "stdout",
     "output_type": "stream",
     "text": [
      "The string contains all vowels.\n"
     ]
    }
   ],
   "source": [
    "import re\n",
    "\n",
    "input_string = \"The quick brown fox jumps over the lazy dog\"\n",
    "\n",
    "# Regular expression pattern to check for all vowels\n",
    "pattern = r'(?=.*a)(?=.*e)(?=.*i)(?=.*o)(?=.*u)'\n",
    "\n",
    "if re.search(pattern, input_string, re.IGNORECASE):\n",
    "    print(\"The string contains all vowels.\")\n",
    "else:\n",
    "    print(\"The string does not contain all vowels.\")\n"
   ]
  },
  {
   "cell_type": "markdown",
   "id": "91a315ac-d38d-4b10-a2fa-ad53f1e98a04",
   "metadata": {},
   "source": [
    "### with function"
   ]
  },
  {
   "cell_type": "code",
   "execution_count": 27,
   "id": "fbfc3d7f-5810-45a1-b716-b399729fa54e",
   "metadata": {},
   "outputs": [
    {
     "name": "stdout",
     "output_type": "stream",
     "text": [
      "The string contains all vowels.\n"
     ]
    }
   ],
   "source": [
    "def contains_all_vowels(input_string):\n",
    "    vowels = set('aeiou')\n",
    "    input_vowels = set(char.lower() for char in input_string if char.lower() in vowels)\n",
    "    return input_vowels == vowels\n",
    "\n",
    "# Example usage\n",
    "input_string = \"The quick brown fox jumps over the lazy dog\"\n",
    "if contains_all_vowels(input_string):\n",
    "    print(\"The string contains all vowels.\")\n",
    "else:\n",
    "    print(\"The string does not contain all vowels.\")\n"
   ]
  },
  {
   "cell_type": "markdown",
   "id": "a0d917fd-6615-49a8-addc-073f00389a75",
   "metadata": {},
   "source": [
    "### 11 -Python | Count the Number of matching characters in a pair of string"
   ]
  },
  {
   "cell_type": "code",
   "execution_count": 28,
   "id": "bd16267f-2e7a-4799-9093-930c4d39c593",
   "metadata": {},
   "outputs": [
    {
     "name": "stdout",
     "output_type": "stream",
     "text": [
      "Number of matching characters: 3\n"
     ]
    }
   ],
   "source": [
    "string1 = \"hello\"\n",
    "string2 = \"yellow\"\n",
    "\n",
    "# Use a set to find matching characters\n",
    "matching_characters = set(string1) & set(string2)\n",
    "\n",
    "# Count the number of matching characters\n",
    "count = len(matching_characters)\n",
    "\n",
    "print(\"Number of matching characters:\", count)  # Output: 3 (for 'l', 'o', 'h' from 'hello')\n"
   ]
  },
  {
   "cell_type": "markdown",
   "id": "19a49c6e-f29a-4070-b20d-a3b2eb551fc8",
   "metadata": {},
   "source": [
    "### 12 -Python program to count number of vowels using sets in given string"
   ]
  },
  {
   "cell_type": "code",
   "execution_count": 29,
   "id": "d03c9495-acc4-45ca-9fb8-2a8e597eb5ad",
   "metadata": {},
   "outputs": [
    {
     "name": "stdout",
     "output_type": "stream",
     "text": [
      "Number of vowels: 8\n"
     ]
    }
   ],
   "source": [
    "input_string = \"Hello, World! This is a test string.\"\n",
    "\n",
    "# Define a set of vowels\n",
    "vowels = set('aeiouAEIOU')\n",
    "\n",
    "# Use a set comprehension to count the vowels\n",
    "vowel_count = sum(1 for char in input_string if char in vowels)\n",
    "\n",
    "print(\"Number of vowels:\", vowel_count)  # Output: Number of vowels: 9\n"
   ]
  },
  {
   "cell_type": "markdown",
   "id": "f5d756b5-4aa8-4ac5-b2d6-01920c37b362",
   "metadata": {},
   "source": [
    "### 13 -Remove All Duplicates from a Given String in Python"
   ]
  },
  {
   "cell_type": "markdown",
   "id": "eaedaefe-6808-489b-8e1e-b3d8a33c7ced",
   "metadata": {},
   "source": [
    "### Using a Set and List Comprehension"
   ]
  },
  {
   "cell_type": "code",
   "execution_count": 30,
   "id": "1e836513-81fc-4876-af0b-d1c3b6afddb9",
   "metadata": {},
   "outputs": [
    {
     "name": "stdout",
     "output_type": "stream",
     "text": [
      "String after removing duplicates: helo wrd\n"
     ]
    }
   ],
   "source": [
    "input_string = \"hello world\"\n",
    "\n",
    "# Remove duplicates while preserving the order\n",
    "result = ''.join(sorted(set(input_string), key=input_string.index))\n",
    "\n",
    "print(\"String after removing duplicates:\", result)  # Output: \"helo wrd\"\n"
   ]
  },
  {
   "cell_type": "markdown",
   "id": "fa4f5569-910a-46e2-926e-e5333e3d4650",
   "metadata": {},
   "source": [
    "### Without Preserving Order"
   ]
  },
  {
   "cell_type": "code",
   "execution_count": 31,
   "id": "3ea77007-7cc9-4505-b057-252f81179726",
   "metadata": {},
   "outputs": [
    {
     "name": "stdout",
     "output_type": "stream",
     "text": [
      "String after removing duplicates: edlhorw \n"
     ]
    }
   ],
   "source": [
    "input_string = \"hello world\"\n",
    "\n",
    "# Remove duplicates without preserving order\n",
    "result = ''.join(set(input_string))\n",
    "\n",
    "print(\"String after removing duplicates:\", result)  # Output will vary in order\n"
   ]
  },
  {
   "cell_type": "markdown",
   "id": "95fa680d-a21a-4c58-bcd8-047ee788175d",
   "metadata": {},
   "source": [
    "### 14 -Python – Least Frequent Character in String"
   ]
  },
  {
   "cell_type": "code",
   "execution_count": 32,
   "id": "6cbeaf2b-d3fc-4e20-acef-faf4818f7671",
   "metadata": {},
   "outputs": [
    {
     "name": "stdout",
     "output_type": "stream",
     "text": [
      "Least frequent character(s): ['h', 'e', ' ', 'w', 'r', 'd']\n"
     ]
    }
   ],
   "source": [
    "from collections import Counter\n",
    "\n",
    "input_string = \"hello world\"\n",
    "\n",
    "# Count the frequency of each character\n",
    "char_count = Counter(input_string)\n",
    "\n",
    "# Find the least frequent character(s)\n",
    "least_frequent = min(char_count.values())\n",
    "\n",
    "# Get all characters with the least frequency\n",
    "least_frequent_chars = [char for char, count in char_count.items() if count == least_frequent]\n",
    "\n",
    "print(\"Least frequent character(s):\", least_frequent_chars)\n"
   ]
  },
  {
   "cell_type": "markdown",
   "id": "23bfa649-c12e-441c-93bc-a2d154949344",
   "metadata": {},
   "source": [
    "### 15 -Python | Maximum frequency character in String"
   ]
  },
  {
   "cell_type": "code",
   "execution_count": 33,
   "id": "789ad5c6-e7f4-45b5-9ea3-d97549df5d49",
   "metadata": {},
   "outputs": [
    {
     "name": "stdout",
     "output_type": "stream",
     "text": [
      "Maximum frequency character: l\n",
      "Frequency: 3\n"
     ]
    }
   ],
   "source": [
    "from collections import Counter\n",
    "\n",
    "input_string = \"hello world\"\n",
    "\n",
    "# Count the frequency of each character\n",
    "char_count = Counter(input_string)\n",
    "\n",
    "# Find the character with the maximum frequency\n",
    "max_char = max(char_count, key=char_count.get)\n",
    "max_freq = char_count[max_char]\n",
    "\n",
    "print(\"Maximum frequency character:\", max_char)\n",
    "print(\"Frequency:\", max_freq)\n"
   ]
  },
  {
   "cell_type": "markdown",
   "id": "74a9567c-125d-42dd-b614-8f5a2d8076f5",
   "metadata": {},
   "source": [
    "### 16 -Python – Odd Frequency Characters"
   ]
  },
  {
   "cell_type": "code",
   "execution_count": 34,
   "id": "5ed3c1a1-3210-4631-b5de-1a2df6714d18",
   "metadata": {},
   "outputs": [
    {
     "name": "stdout",
     "output_type": "stream",
     "text": [
      "Characters with odd frequency: ['h', 'e', 'l', ' ', 'w', 'r', 'd']\n"
     ]
    }
   ],
   "source": [
    "from collections import Counter\n",
    "\n",
    "input_string = \"hello world\"\n",
    "\n",
    "# Count the frequency of each character\n",
    "char_count = Counter(input_string)\n",
    "\n",
    "# Find characters with odd frequencies\n",
    "odd_freq_chars = [char for char, count in char_count.items() if count % 2 != 0]\n",
    "\n",
    "print(\"Characters with odd frequency:\", odd_freq_chars)\n"
   ]
  },
  {
   "cell_type": "markdown",
   "id": "fd2d4ae2-2b52-462a-a32e-88114f0ea984",
   "metadata": {},
   "source": [
    "### 17 -Python – Specific Characters Frequency in String List"
   ]
  },
  {
   "cell_type": "code",
   "execution_count": 35,
   "id": "ff5c5657-c524-4b0e-8f8d-e52c1e29987c",
   "metadata": {},
   "outputs": [
    {
     "name": "stdout",
     "output_type": "stream",
     "text": [
      "Frequency of specific characters: {'l': 6, 'o': 6}\n"
     ]
    }
   ],
   "source": [
    "from collections import Counter\n",
    "\n",
    "# List of strings\n",
    "string_list = [\"hello\", \"world\", \"python\", \"programming\", \"hello world\"]\n",
    "\n",
    "# Characters to check\n",
    "specific_chars = \"lo\"\n",
    "\n",
    "# Join all strings into a single string\n",
    "joined_string = ''.join(string_list)\n",
    "\n",
    "# Count the frequency of all characters in the joined string\n",
    "char_count = Counter(joined_string)\n",
    "\n",
    "# Create a dictionary for specific characters\n",
    "frequency = {char: char_count[char] for char in specific_chars}\n",
    "\n",
    "print(\"Frequency of specific characters:\", frequency)\n"
   ]
  },
  {
   "cell_type": "markdown",
   "id": "e3711a50-b888-4343-9f6f-228087ef6142",
   "metadata": {},
   "source": [
    "### 18 -Python | Frequency of numbers in String"
   ]
  },
  {
   "cell_type": "code",
   "execution_count": 36,
   "id": "99a60bd9-ee9b-4018-aa39-030a64444e94",
   "metadata": {},
   "outputs": [
    {
     "name": "stdout",
     "output_type": "stream",
     "text": [
      "Frequency of numbers: Counter({'1': 2, '2': 2, '3': 2, '4': 1, '5': 1, '6': 1})\n"
     ]
    }
   ],
   "source": [
    "from collections import Counter\n",
    "\n",
    "input_string = \"hello 123, welcome to 456! 123\"\n",
    "\n",
    "# Filter out only digits from the string\n",
    "numbers = [char for char in input_string if char.isdigit()]\n",
    "\n",
    "# Count the frequency of each number\n",
    "number_count = Counter(numbers)\n",
    "\n",
    "print(\"Frequency of numbers:\", number_count)\n"
   ]
  },
  {
   "cell_type": "markdown",
   "id": "5e0593b3-f336-48cf-b0f8-802d3e4c74ee",
   "metadata": {},
   "source": [
    "### 19 -Program to check if a string contains any special character"
   ]
  },
  {
   "cell_type": "code",
   "execution_count": 37,
   "id": "433b994a-2ecb-4cb2-889b-eabeb819ebd1",
   "metadata": {},
   "outputs": [
    {
     "name": "stdout",
     "output_type": "stream",
     "text": [
      "The string contains special characters.\n"
     ]
    }
   ],
   "source": [
    "import re\n",
    "\n",
    "input_string = \"Hello, World!\"\n",
    "\n",
    "# Regular expression pattern to match special characters\n",
    "pattern = r'[^a-zA-Z0-9\\s]'\n",
    "\n",
    "# Check if the string contains any special character\n",
    "if re.search(pattern, input_string):\n",
    "    print(\"The string contains special characters.\")\n",
    "else:\n",
    "    print(\"The string does not contain special characters.\")\n"
   ]
  },
  {
   "cell_type": "markdown",
   "id": "eabf1f6b-64ca-4c92-b36c-eb21d84efe67",
   "metadata": {},
   "source": [
    "### 20 -Find words which are greater than given length k"
   ]
  },
  {
   "cell_type": "code",
   "execution_count": 38,
   "id": "bda6cd27-aa95-41dd-8aa6-377027f6f61b",
   "metadata": {},
   "outputs": [
    {
     "name": "stdout",
     "output_type": "stream",
     "text": [
      "Words greater than length 3 : ['This', 'example', 'sentence', 'filtering', 'words']\n"
     ]
    }
   ],
   "source": [
    "input_string = \"This is an example sentence for filtering words\"\n",
    "k = 3  # Specify the length\n",
    "\n",
    "# Split the string into words\n",
    "words = input_string.split()\n",
    "\n",
    "# Find words with length greater than k\n",
    "long_words = [word for word in words if len(word) > k]\n",
    "\n",
    "print(\"Words greater than length\", k, \":\", long_words)\n"
   ]
  },
  {
   "cell_type": "markdown",
   "id": "bf15d34f-bc97-4c49-852e-cc0fd2182975",
   "metadata": {},
   "source": [
    "### 21 -Python program for removing i-th character from a string"
   ]
  },
  {
   "cell_type": "code",
   "execution_count": 39,
   "id": "078f1514-85bd-4468-8104-ce14ce6d95a5",
   "metadata": {},
   "outputs": [
    {
     "name": "stdout",
     "output_type": "stream",
     "text": [
      "Original string: Hello, World!\n",
      "String after removing character at index 7 : Hello, orld!\n"
     ]
    }
   ],
   "source": [
    "input_string = \"Hello, World!\"\n",
    "i = 7  # Index of the character to remove\n",
    "\n",
    "# Use list comprehension with enumerate to create a new string\n",
    "result = ''.join(char for index, char in enumerate(input_string) if index != i)\n",
    "\n",
    "print(\"Original string:\", input_string)\n",
    "print(\"String after removing character at index\", i, \":\", result)\n"
   ]
  },
  {
   "cell_type": "code",
   "execution_count": 40,
   "id": "5aca9fbc-59e2-4d51-a75b-75e76c499110",
   "metadata": {},
   "outputs": [
    {
     "name": "stdout",
     "output_type": "stream",
     "text": [
      "Original string: Hello, World!\n",
      "String after removing character at index 7 : Hello, orld!\n"
     ]
    }
   ],
   "source": [
    "input_string = \"Hello, World!\"\n",
    "i = 7  # Index of the character to remove\n",
    "\n",
    "# Remove the i-th character\n",
    "if 0 <= i < len(input_string):\n",
    "    result = input_string[:i] + input_string[i+1:]\n",
    "else:\n",
    "    result = input_string  # If the index is out of range, return the original string\n",
    "\n",
    "print(\"Original string:\", input_string)\n",
    "print(\"String after removing character at index\", i, \":\", result)\n"
   ]
  },
  {
   "cell_type": "markdown",
   "id": "933481bb-b936-47e2-9f7c-f31571fe36e6",
   "metadata": {},
   "source": [
    "### 22 -Python program to split and join a string"
   ]
  },
  {
   "cell_type": "code",
   "execution_count": 41,
   "id": "6d167324-6f9e-427a-90cf-c943b7cb3c2f",
   "metadata": {},
   "outputs": [
    {
     "name": "stdout",
     "output_type": "stream",
     "text": [
      "List of words: ['Hello,', 'World!', 'This', 'is', 'a', 'test.']\n",
      "Joined string: Hello, World! This is a test.\n"
     ]
    }
   ],
   "source": [
    "input_string = \"Hello, World! This is a test.\"\n",
    "\n",
    "# Split the string into words\n",
    "words = input_string.split()\n",
    "\n",
    "print(\"List of words:\", words)\n",
    "\n",
    "# Join the list of words back into a string with a space\n",
    "joined_string = ' '.join(words)\n",
    "\n",
    "print(\"Joined string:\", joined_string)\n"
   ]
  },
  {
   "cell_type": "markdown",
   "id": "0eb769d1-85be-4ca3-9004-cc68732acc95",
   "metadata": {},
   "source": [
    "### 23 -Python | Permutation of a given string using inbuilt function"
   ]
  },
  {
   "cell_type": "code",
   "execution_count": 42,
   "id": "a497860d-efbd-42ac-858b-0f8591f44455",
   "metadata": {},
   "outputs": [
    {
     "name": "stdout",
     "output_type": "stream",
     "text": [
      "Permutations of the given string: ['abc', 'acb', 'bac', 'bca', 'cab', 'cba']\n"
     ]
    }
   ],
   "source": [
    "from itertools import permutations\n",
    "\n",
    "input_string = \"abc\"\n",
    "\n",
    "# Generate permutations\n",
    "perm = permutations(input_string)\n",
    "\n",
    "# Convert permutations from tuples to strings and print them\n",
    "perm_list = [''.join(p) for p in perm]\n",
    "\n",
    "print(\"Permutations of the given string:\", perm_list)\n"
   ]
  },
  {
   "cell_type": "markdown",
   "id": "53662269-f76b-4616-a712-b0449b597ea6",
   "metadata": {},
   "source": [
    "### 24 -Python | Check for URL in a String"
   ]
  },
  {
   "cell_type": "code",
   "execution_count": 43,
   "id": "cbd70584-8aa4-4cc7-8f5f-f2c08094ceb5",
   "metadata": {},
   "outputs": [
    {
     "name": "stdout",
     "output_type": "stream",
     "text": [
      "The string contains a URL.\n"
     ]
    }
   ],
   "source": [
    "import re\n",
    "\n",
    "input_string = \"Visit our website at https://www.example.com for more info.\"\n",
    "\n",
    "# Regular expression pattern for URL\n",
    "url_pattern = r'(https?://[^\\s]+|www\\.[^\\s]+)'\n",
    "\n",
    "# Search for the URL in the string\n",
    "if re.search(url_pattern, input_string):\n",
    "    print(\"The string contains a URL.\")\n",
    "else:\n",
    "    print(\"The string does not contain a URL.\")\n"
   ]
  }
 ],
 "metadata": {
  "kernelspec": {
   "display_name": "Python 3 (ipykernel)",
   "language": "python",
   "name": "python3"
  },
  "language_info": {
   "codemirror_mode": {
    "name": "ipython",
    "version": 3
   },
   "file_extension": ".py",
   "mimetype": "text/x-python",
   "name": "python",
   "nbconvert_exporter": "python",
   "pygments_lexer": "ipython3",
   "version": "3.11.5"
  },
  "widgets": {
   "application/vnd.jupyter.widget-state+json": {
    "state": {},
    "version_major": 2,
    "version_minor": 0
   }
  }
 },
 "nbformat": 4,
 "nbformat_minor": 5
}
